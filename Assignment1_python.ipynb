{
 "cells": [
  {
   "cell_type": "code",
   "execution_count": 1,
   "metadata": {
    "collapsed": true
   },
   "outputs": [],
   "source": [
    "import numpy"
   ]
  },
  {
   "cell_type": "code",
   "execution_count": 2,
   "metadata": {
    "collapsed": true
   },
   "outputs": [],
   "source": [
    "data = numpy.genfromtxt('classFile.csv', dtype='str',delimiter=',')"
   ]
  },
  {
   "cell_type": "code",
   "execution_count": 3,
   "metadata": {
    "collapsed": false
   },
   "outputs": [
    {
     "data": {
      "text/plain": [
       "array([['1', '3.50', '2.50', '45000', '3.50', '3.50', 'N', '250', '90000'],\n",
       "       ['3', '3.80', '1.00', '65000', '3.60', '3.00', 'Y', '400', '100000'],\n",
       "       ['4', '3.80', '2.00', '85000', '4.00', '3.60', 'Y', '500', '90000'],\n",
       "       ['5', '3.41', '1.50', '10000', '3.41', '3.33', 'N', '365', '100000'],\n",
       "       ['6', '3.33', '5.00', '70000', '3.67', '3.00', 'Y', '400', '100000'],\n",
       "       ['7', '3.52', '2.50', '27000', '3.58', '3.52', 'N', '230', '85000'],\n",
       "       ['8', '3.50', '2.00', '40000', '3.70', '3.30', 'N', '250', '90000'],\n",
       "       ['9', '3.50', '5.00', '75000', '3.53', '3.30', 'Y', '260', '100000'],\n",
       "       ['10', '3.60', '2.50', '65000', '3.90', '3.10', 'Y', '250', '110000'],\n",
       "       ['11', '3.20', '4.00', '62000', '3.80', '3.00', 'N', '525', '105000'],\n",
       "       ['12', '3.50', '2.00', '60000', '3.50', '3.50', 'N', '400', '85000'],\n",
       "       ['13', '3.67', '1.80', '60000', '4.00', '3.00', 'N', '920', '140000'],\n",
       "       ['14', '3.50', '2.00', '60000', '3.70', '3.30', 'y', '300', '90000'],\n",
       "       ['15', '3.47', '2.50', '70000', '3.64', '3.37', 'Y', '310', '95000'],\n",
       "       ['16', '3.06', '1.30', '40000', '3.64', '2.67', 'Y', '550', '120000'],\n",
       "       ['17', '3.27', '2.00', '60000', '4.00', '3.00', 'Y', '350', '100000'],\n",
       "       ['18', '3.53', '4.00', '50000', '4.00', '3.30', 'N', '600', '88000'],\n",
       "       ['19', '4.00', '4.00', '50000', '4.00', '4.00', 'Y', '500', '130000'],\n",
       "       ['20', '3.40', '1.00', '30000', '3.60', '3.10', 'N', '500', '80000'],\n",
       "       ['21', '3.54', '1.00', '40000', '4.00', '3.42', 'Y', '650', '95000'],\n",
       "       ['22', '3.50', '2.00', '75000', '4.00', '3.00', 'Y', '515', '80000'],\n",
       "       ['23', '3.50', '4.00', '50000', '3.80', '3.20', 'Y', '350', '110000'],\n",
       "       ['24', '3.40', '3.00', '50000', '3.80', '3.20', 'Y', '301', '90000'],\n",
       "       ['25', '3.93', '5.00', '', '', '', '', '', ''],\n",
       "       ['26', '3.30', '4.00', '65000', '4.00', '3.65', 'Y', '700', '100000'],\n",
       "       ['27', '3.90', '6.00', '90000', '4.00', '3.80', 'Y', '809', '120000'],\n",
       "       ['28', '3.17', '1.00', '50000', '3.30', '3.00', 'N', '258', '100000'],\n",
       "       ['29', '3.48', '3.50', '60000', '4.00', '3.33', 'Y', '350', '100000'],\n",
       "       ['30', '3.93', '4.00', '43000', '4.00', '3.28', 'Y', '900', '100000'],\n",
       "       ['31', '3.43', '4.00', '60000', '3.50', '3.30', 'Y', '220', '110000'],\n",
       "       ['32', '3.33', '5.00', '5000', '3.66', '3.00', 'Y', '183', '100000'],\n",
       "       ['33', '3.60', '1.50', '60000', '3.70', '3.40', 'Y', '340', '100000'],\n",
       "       ['34', '3.80', '3.00', '65000', '3.80', '3.50', 'Y', '800', '80000'],\n",
       "       ['35', '3.50', '3.00', '65000', '4.00', '3.60', 'Y', '400', '80000'],\n",
       "       ['36', '3.39', '2.00', '60000', '3.80', '3.20', 'Y', '500', '90000']], \n",
       "      dtype='<U6')"
      ]
     },
     "execution_count": 3,
     "metadata": {},
     "output_type": "execute_result"
    }
   ],
   "source": [
    "data"
   ]
  },
  {
   "cell_type": "code",
   "execution_count": 4,
   "metadata": {
    "collapsed": true
   },
   "outputs": [],
   "source": [
    "minGPA=min(float(column[1].replace(',', '')) for column in data)"
   ]
  },
  {
   "cell_type": "code",
   "execution_count": 5,
   "metadata": {
    "collapsed": false
   },
   "outputs": [
    {
     "data": {
      "text/plain": [
       "3.06"
      ]
     },
     "execution_count": 5,
     "metadata": {},
     "output_type": "execute_result"
    }
   ],
   "source": [
    "minGPA"
   ]
  },
  {
   "cell_type": "code",
   "execution_count": 6,
   "metadata": {
    "collapsed": true
   },
   "outputs": [],
   "source": [
    "maxGPA=max(float(column[1].replace(',', '')) for column in data)"
   ]
  },
  {
   "cell_type": "code",
   "execution_count": 7,
   "metadata": {
    "collapsed": false
   },
   "outputs": [
    {
     "data": {
      "text/plain": [
       "4.0"
      ]
     },
     "execution_count": 7,
     "metadata": {},
     "output_type": "execute_result"
    }
   ],
   "source": [
    "maxGPA"
   ]
  },
  {
   "cell_type": "code",
   "execution_count": 8,
   "metadata": {
    "collapsed": true
   },
   "outputs": [],
   "source": [
    "import statistics"
   ]
  },
  {
   "cell_type": "code",
   "execution_count": 9,
   "metadata": {
    "collapsed": true
   },
   "outputs": [],
   "source": [
    "medianGPA=statistics.median(float(column[1].replace(',', '')) for column in data)"
   ]
  },
  {
   "cell_type": "code",
   "execution_count": 10,
   "metadata": {
    "collapsed": false
   },
   "outputs": [
    {
     "data": {
      "text/plain": [
       "3.5"
      ]
     },
     "execution_count": 10,
     "metadata": {},
     "output_type": "execute_result"
    }
   ],
   "source": [
    "medianGPA"
   ]
  },
  {
   "cell_type": "code",
   "execution_count": 11,
   "metadata": {
    "collapsed": true
   },
   "outputs": [],
   "source": [
    "meanGPA=statistics.mean(float(column[1].replace(',', '')) for column in data)"
   ]
  },
  {
   "cell_type": "code",
   "execution_count": 12,
   "metadata": {
    "collapsed": false
   },
   "outputs": [
    {
     "data": {
      "text/plain": [
       "3.521714285714286"
      ]
     },
     "execution_count": 12,
     "metadata": {},
     "output_type": "execute_result"
    }
   ],
   "source": [
    "meanGPA"
   ]
  },
  {
   "cell_type": "code",
   "execution_count": 13,
   "metadata": {
    "collapsed": true
   },
   "outputs": [],
   "source": [
    "minWEX = min(float(column[2].replace(',', '')) for column in data)"
   ]
  },
  {
   "cell_type": "code",
   "execution_count": 14,
   "metadata": {
    "collapsed": false
   },
   "outputs": [
    {
     "data": {
      "text/plain": [
       "1.0"
      ]
     },
     "execution_count": 14,
     "metadata": {},
     "output_type": "execute_result"
    }
   ],
   "source": [
    "minWEX"
   ]
  },
  {
   "cell_type": "code",
   "execution_count": 15,
   "metadata": {
    "collapsed": true
   },
   "outputs": [],
   "source": [
    "maxWEX = max(float(column[2].replace(',', '')) for column in data)"
   ]
  },
  {
   "cell_type": "code",
   "execution_count": 16,
   "metadata": {
    "collapsed": false
   },
   "outputs": [
    {
     "data": {
      "text/plain": [
       "6.0"
      ]
     },
     "execution_count": 16,
     "metadata": {},
     "output_type": "execute_result"
    }
   ],
   "source": [
    "maxWEX"
   ]
  },
  {
   "cell_type": "code",
   "execution_count": 17,
   "metadata": {
    "collapsed": true
   },
   "outputs": [],
   "source": [
    "medianWEX = statistics.median(float(column[2].replace(',', '')) for column in data)"
   ]
  },
  {
   "cell_type": "code",
   "execution_count": 18,
   "metadata": {
    "collapsed": false
   },
   "outputs": [
    {
     "data": {
      "text/plain": [
       "2.5"
      ]
     },
     "execution_count": 18,
     "metadata": {},
     "output_type": "execute_result"
    }
   ],
   "source": [
    "medianWEX"
   ]
  },
  {
   "cell_type": "code",
   "execution_count": 19,
   "metadata": {
    "collapsed": true
   },
   "outputs": [],
   "source": [
    "meanWEX=statistics.mean(float(column[2].replace(',', '')) for column in data)"
   ]
  },
  {
   "cell_type": "code",
   "execution_count": 20,
   "metadata": {
    "collapsed": false
   },
   "outputs": [
    {
     "data": {
      "text/plain": [
       "2.874285714285714"
      ]
     },
     "execution_count": 20,
     "metadata": {},
     "output_type": "execute_result"
    }
   ],
   "source": [
    "meanWEX"
   ]
  },
  {
   "cell_type": "code",
   "execution_count": 21,
   "metadata": {
    "collapsed": true
   },
   "outputs": [],
   "source": [
    "modeSal = statistics.mode(str(column[3].replace(',', '')) for column in data)"
   ]
  },
  {
   "cell_type": "code",
   "execution_count": 22,
   "metadata": {
    "collapsed": false
   },
   "outputs": [
    {
     "data": {
      "text/plain": [
       "'60000'"
      ]
     },
     "execution_count": 22,
     "metadata": {},
     "output_type": "execute_result"
    }
   ],
   "source": [
    "modeSal"
   ]
  },
  {
   "cell_type": "code",
   "execution_count": 23,
   "metadata": {
    "collapsed": true
   },
   "outputs": [],
   "source": [
    "from collections import Counter"
   ]
  },
  {
   "cell_type": "code",
   "execution_count": 24,
   "metadata": {
    "collapsed": true
   },
   "outputs": [],
   "source": [
    "c = Counter((column[6].replace(',', '')for column in data))"
   ]
  },
  {
   "cell_type": "code",
   "execution_count": 25,
   "metadata": {
    "collapsed": false
   },
   "outputs": [
    {
     "data": {
      "text/plain": [
       "Counter({'': 1, 'N': 10, 'Y': 23, 'y': 1})"
      ]
     },
     "execution_count": 25,
     "metadata": {},
     "output_type": "execute_result"
    }
   ],
   "source": [
    "c"
   ]
  },
  {
   "cell_type": "code",
   "execution_count": 26,
   "metadata": {
    "collapsed": true
   },
   "outputs": [],
   "source": [
    "l = len(data)"
   ]
  },
  {
   "cell_type": "code",
   "execution_count": 27,
   "metadata": {
    "collapsed": false
   },
   "outputs": [
    {
     "data": {
      "text/plain": [
       "35"
      ]
     },
     "execution_count": 27,
     "metadata": {},
     "output_type": "execute_result"
    }
   ],
   "source": [
    "l"
   ]
  },
  {
   "cell_type": "code",
   "execution_count": 28,
   "metadata": {
    "collapsed": false
   },
   "outputs": [
    {
     "name": "stdout",
     "output_type": "stream",
     "text": [
      "0.2857142857142857\n"
     ]
    }
   ],
   "source": [
    "print(c['N']/l)"
   ]
  },
  {
   "cell_type": "code",
   "execution_count": 29,
   "metadata": {
    "collapsed": false
   },
   "outputs": [
    {
     "name": "stdout",
     "output_type": "stream",
     "text": [
      "0.6571428571428571\n"
     ]
    }
   ],
   "source": [
    "print(c['Y']/l)"
   ]
  },
  {
   "cell_type": "code",
   "execution_count": 30,
   "metadata": {
    "collapsed": true
   },
   "outputs": [],
   "source": [
    "import csv"
   ]
  },
  {
   "cell_type": "code",
   "execution_count": 31,
   "metadata": {
    "collapsed": true
   },
   "outputs": [],
   "source": [
    "with open(\"ClassData.csv\") as f:\n",
    "    reader = csv.DictReader(f)\n",
    "    rows = [row for row in reader if row['Number of contacts on Linkedin'] > '500']"
   ]
  },
  {
   "cell_type": "code",
   "execution_count": 32,
   "metadata": {
    "collapsed": false
   },
   "outputs": [
    {
     "data": {
      "text/plain": [
       "[{'Coops/Internships (YN)': 'N',\n",
       "  'Expected Salary after graduation': '105000',\n",
       "  'GPA': '3.2',\n",
       "  'Highest GPA ': '3.8',\n",
       "  'Latest salary (per year)': '62000',\n",
       "  'Lowest GPA': '3',\n",
       "  'No': '11',\n",
       "  'Number of contacts on Linkedin': '525',\n",
       "  'Years of work experience': '4'},\n",
       " {'Coops/Internships (YN)': 'N',\n",
       "  'Expected Salary after graduation': '140000',\n",
       "  'GPA': '3.67',\n",
       "  'Highest GPA ': '4',\n",
       "  'Latest salary (per year)': '60000',\n",
       "  'Lowest GPA': '3',\n",
       "  'No': '13',\n",
       "  'Number of contacts on Linkedin': '920',\n",
       "  'Years of work experience': '1.8'},\n",
       " {'Coops/Internships (YN)': 'Y',\n",
       "  'Expected Salary after graduation': '120000',\n",
       "  'GPA': '3.06',\n",
       "  'Highest GPA ': '3.64',\n",
       "  'Latest salary (per year)': '40000',\n",
       "  'Lowest GPA': '2.67',\n",
       "  'No': '16',\n",
       "  'Number of contacts on Linkedin': '550',\n",
       "  'Years of work experience': '1.3'},\n",
       " {'Coops/Internships (YN)': 'N',\n",
       "  'Expected Salary after graduation': '88000',\n",
       "  'GPA': '3.53',\n",
       "  'Highest GPA ': '4',\n",
       "  'Latest salary (per year)': '50000',\n",
       "  'Lowest GPA': '3.3',\n",
       "  'No': '18',\n",
       "  'Number of contacts on Linkedin': '600',\n",
       "  'Years of work experience': '4'},\n",
       " {'Coops/Internships (YN)': 'Y',\n",
       "  'Expected Salary after graduation': '95000',\n",
       "  'GPA': '3.54',\n",
       "  'Highest GPA ': '4',\n",
       "  'Latest salary (per year)': '40000',\n",
       "  'Lowest GPA': '3.42',\n",
       "  'No': '21',\n",
       "  'Number of contacts on Linkedin': '650',\n",
       "  'Years of work experience': '1'},\n",
       " {'Coops/Internships (YN)': 'Y',\n",
       "  'Expected Salary after graduation': '80000',\n",
       "  'GPA': '3.5',\n",
       "  'Highest GPA ': '4',\n",
       "  'Latest salary (per year)': '75000',\n",
       "  'Lowest GPA': '3',\n",
       "  'No': '22',\n",
       "  'Number of contacts on Linkedin': '515',\n",
       "  'Years of work experience': '2'},\n",
       " {'Coops/Internships (YN)': 'Y',\n",
       "  'Expected Salary after graduation': '100000',\n",
       "  'GPA': '3.3',\n",
       "  'Highest GPA ': '4',\n",
       "  'Latest salary (per year)': '65000',\n",
       "  'Lowest GPA': '3.65',\n",
       "  'No': '26',\n",
       "  'Number of contacts on Linkedin': '700',\n",
       "  'Years of work experience': '4'},\n",
       " {'Coops/Internships (YN)': 'Y',\n",
       "  'Expected Salary after graduation': '120000',\n",
       "  'GPA': '3.9',\n",
       "  'Highest GPA ': '4',\n",
       "  'Latest salary (per year)': '90000',\n",
       "  'Lowest GPA': '3.8',\n",
       "  'No': '27',\n",
       "  'Number of contacts on Linkedin': '809',\n",
       "  'Years of work experience': '6'},\n",
       " {'Coops/Internships (YN)': 'Y',\n",
       "  'Expected Salary after graduation': '100000',\n",
       "  'GPA': '3.93',\n",
       "  'Highest GPA ': '4',\n",
       "  'Latest salary (per year)': '43000',\n",
       "  'Lowest GPA': '3.28',\n",
       "  'No': '30',\n",
       "  'Number of contacts on Linkedin': '900',\n",
       "  'Years of work experience': '4'},\n",
       " {'Coops/Internships (YN)': 'Y',\n",
       "  'Expected Salary after graduation': '80000',\n",
       "  'GPA': '3.8',\n",
       "  'Highest GPA ': '3.8',\n",
       "  'Latest salary (per year)': '65000',\n",
       "  'Lowest GPA': '3.5',\n",
       "  'No': '34',\n",
       "  'Number of contacts on Linkedin': '800',\n",
       "  'Years of work experience': '3'}]"
      ]
     },
     "execution_count": 32,
     "metadata": {},
     "output_type": "execute_result"
    }
   ],
   "source": [
    "rows"
   ]
  },
  {
   "cell_type": "code",
   "execution_count": 33,
   "metadata": {
    "collapsed": true
   },
   "outputs": [],
   "source": [
    "StudentsWith500Cont = len(rows)"
   ]
  },
  {
   "cell_type": "code",
   "execution_count": 34,
   "metadata": {
    "collapsed": false
   },
   "outputs": [
    {
     "data": {
      "text/plain": [
       "10"
      ]
     },
     "execution_count": 34,
     "metadata": {},
     "output_type": "execute_result"
    }
   ],
   "source": [
    "StudentsWith500Cont"
   ]
  },
  {
   "cell_type": "code",
   "execution_count": 35,
   "metadata": {
    "collapsed": true
   },
   "outputs": [],
   "source": [
    "a=sorted((column[8].replace(',', '')for column in data))"
   ]
  },
  {
   "cell_type": "code",
   "execution_count": 36,
   "metadata": {
    "collapsed": false
   },
   "outputs": [
    {
     "data": {
      "text/plain": [
       "['',\n",
       " '100000',\n",
       " '100000',\n",
       " '100000',\n",
       " '100000',\n",
       " '100000',\n",
       " '100000',\n",
       " '100000',\n",
       " '100000',\n",
       " '100000',\n",
       " '100000',\n",
       " '100000',\n",
       " '105000',\n",
       " '110000',\n",
       " '110000',\n",
       " '110000',\n",
       " '120000',\n",
       " '120000',\n",
       " '130000',\n",
       " '140000',\n",
       " '80000',\n",
       " '80000',\n",
       " '80000',\n",
       " '80000',\n",
       " '85000',\n",
       " '85000',\n",
       " '88000',\n",
       " '90000',\n",
       " '90000',\n",
       " '90000',\n",
       " '90000',\n",
       " '90000',\n",
       " '90000',\n",
       " '95000',\n",
       " '95000']"
      ]
     },
     "execution_count": 36,
     "metadata": {},
     "output_type": "execute_result"
    }
   ],
   "source": [
    "a"
   ]
  },
  {
   "cell_type": "code",
   "execution_count": 37,
   "metadata": {
    "collapsed": true
   },
   "outputs": [],
   "source": [
    "value_list = [int(x) for x in a if x]"
   ]
  },
  {
   "cell_type": "code",
   "execution_count": 38,
   "metadata": {
    "collapsed": false
   },
   "outputs": [
    {
     "data": {
      "text/plain": [
       "[100000,\n",
       " 100000,\n",
       " 100000,\n",
       " 100000,\n",
       " 100000,\n",
       " 100000,\n",
       " 100000,\n",
       " 100000,\n",
       " 100000,\n",
       " 100000,\n",
       " 100000,\n",
       " 105000,\n",
       " 110000,\n",
       " 110000,\n",
       " 110000,\n",
       " 120000,\n",
       " 120000,\n",
       " 130000,\n",
       " 140000,\n",
       " 80000,\n",
       " 80000,\n",
       " 80000,\n",
       " 80000,\n",
       " 85000,\n",
       " 85000,\n",
       " 88000,\n",
       " 90000,\n",
       " 90000,\n",
       " 90000,\n",
       " 90000,\n",
       " 90000,\n",
       " 90000,\n",
       " 95000,\n",
       " 95000]"
      ]
     },
     "execution_count": 38,
     "metadata": {},
     "output_type": "execute_result"
    }
   ],
   "source": [
    "value_list"
   ]
  },
  {
   "cell_type": "code",
   "execution_count": 39,
   "metadata": {
    "collapsed": true
   },
   "outputs": [],
   "source": [
    "q75, q25 = numpy.percentile(value_list, [75 ,25])"
   ]
  },
  {
   "cell_type": "code",
   "execution_count": 40,
   "metadata": {
    "collapsed": true
   },
   "outputs": [],
   "source": [
    "iqr = q75 -q25"
   ]
  },
  {
   "cell_type": "code",
   "execution_count": 41,
   "metadata": {
    "collapsed": false
   },
   "outputs": [
    {
     "data": {
      "text/plain": [
       "10000.0"
      ]
     },
     "execution_count": 41,
     "metadata": {},
     "output_type": "execute_result"
    }
   ],
   "source": [
    "iqr"
   ]
  },
  {
   "cell_type": "code",
   "execution_count": null,
   "metadata": {
    "collapsed": true
   },
   "outputs": [],
   "source": []
  }
 ],
 "metadata": {
  "kernelspec": {
   "display_name": "Python 3",
   "language": "python",
   "name": "python3"
  },
  "language_info": {
   "codemirror_mode": {
    "name": "ipython",
    "version": 3
   },
   "file_extension": ".py",
   "mimetype": "text/x-python",
   "name": "python",
   "nbconvert_exporter": "python",
   "pygments_lexer": "ipython3",
   "version": "3.5.2"
  }
 },
 "nbformat": 4,
 "nbformat_minor": 2
}
